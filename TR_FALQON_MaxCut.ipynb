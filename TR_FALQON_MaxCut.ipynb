{
  "cells": [
    {
      "cell_type": "markdown",
      "metadata": {
        "id": "view-in-github",
        "colab_type": "text"
      },
      "source": [
        "<a href=\"https://colab.research.google.com/github/Lucas-Rattighieri/tr-fqa/blob/main/TR_FALQON_MaxCut.ipynb\" target=\"_parent\"><img src=\"https://colab.research.google.com/assets/colab-badge.svg\" alt=\"Open In Colab\"/></a>"
      ]
    },
    {
      "cell_type": "code",
      "execution_count": null,
      "metadata": {
        "cellView": "form",
        "id": "1Hr3hgG1RADH"
      },
      "outputs": [],
      "source": [
        "#@title Importação das Bibliotecas\n",
        "\n",
        "import matplotlib.pyplot as plt\n",
        "import matplotlib.ticker as ticker\n",
        "import numpy as np\n",
        "import numpy.linalg as npl\n",
        "import scipy.linalg as la\n",
        "import torch\n",
        "import networkx as nx"
      ]
    },
    {
      "cell_type": "code",
      "execution_count": null,
      "metadata": {
        "cellView": "form",
        "id": "HXam9lZhpyEO"
      },
      "outputs": [],
      "source": [
        "#@title Configuração Pytorch\n",
        "\n",
        "dtype = torch.complex128\n",
        "device = torch.device(\"cuda\" if torch.cuda.is_available() else \"cpu\")"
      ]
    },
    {
      "cell_type": "code",
      "execution_count": null,
      "metadata": {
        "id": "itv4YsesRB2M",
        "cellView": "form"
      },
      "outputs": [],
      "source": [
        "#@title FQA e FALQON\n",
        "\n",
        "# Computes the action of exp(-i * theta * Hx) on psi, where Hx = \\sum_i x_i\n",
        "def expX(psi, theta, L, index):\n",
        "    ctheta = torch.cos(theta)\n",
        "    istheta = 1j * torch.sin(theta)\n",
        "\n",
        "    for a in range(L):\n",
        "        b = 1 << a\n",
        "        new_index = index ^ b\n",
        "\n",
        "        psi.mul_(ctheta).sub_(psi[new_index].mul(istheta))\n",
        "\n",
        "    return psi\n",
        "\n",
        "# Computes the action of Hx operator on psi\n",
        "def hX(psi, L, index):\n",
        "    Hxpsi = torch.zeros_like(psi)\n",
        "\n",
        "    for a in range(L):\n",
        "        b = 1 << a\n",
        "        new_index = index ^ b\n",
        "        Hxpsi.add_(psi[new_index])\n",
        "\n",
        "    return Hxpsi\n",
        "\n",
        "\n",
        "def falqonHx(L, Hp, Psi, dt, layers, beta0, layers_psis=None, return_data=False, show_data=0):\n",
        "    index = torch.arange(2**L, dtype=torch.int64, device=Psi.device)\n",
        "\n",
        "    # Precompute the evolution under Hp\n",
        "    Up = torch.exp(-1j * dt * Hp)\n",
        "\n",
        "    # Initialize beta parameter\n",
        "    beta = torch.tensor(beta0, device=device, dtype=torch.complex128)\n",
        "\n",
        "    if return_data:\n",
        "        recorded_energies = []\n",
        "        recorded_betas = []\n",
        "        psis = []\n",
        "    if layers_psis is None:\n",
        "        layers_psis = [layers]\n",
        "\n",
        "    for i in range(1, layers + 1):\n",
        "        # Apply the evolution operator of Hp\n",
        "        UpPsi = Up * Psi\n",
        "\n",
        "        # Apply the evolution operator of X\n",
        "        Psi = expX(UpPsi, beta * dt, L, index)\n",
        "\n",
        "        if layers_psis is not None:\n",
        "            if i in layers_psis:\n",
        "                psis.append(Psi.clone())\n",
        "\n",
        "        # Compute Hp @ Psi\n",
        "        HpPsi = Hp * Psi\n",
        "\n",
        "        # Compute Hx @ Hp @ Psi\n",
        "        HxHpPsi = hX(HpPsi, L, index)\n",
        "\n",
        "        # Compute <Psi| HxHp |Psi>\n",
        "        PsiHxHpPsi = torch.vdot(Psi, HxHpPsi)\n",
        "\n",
        "        # Update beta = -i(<Psi| HxHp |Psi> - (<Psi| HxHp |Psi>)*)\n",
        "        beta = -1j * (PsiHxHpPsi - torch.conj(PsiHxHpPsi))\n",
        "\n",
        "        if return_data:\n",
        "            # Record the energy <Psi|Hp|Psi>\n",
        "            energy = torch.vdot(Psi, HpPsi)\n",
        "\n",
        "            recorded_energies.append(float(energy.real))\n",
        "            recorded_betas.append(float(beta.real))\n",
        "\n",
        "            if show_data and i % show_data == 0:\n",
        "                print(f\"Layer {i}, E = {energy.real}\")\n",
        "\n",
        "    return (psis, recorded_energies, recorded_betas) if return_data else psis\n"
      ]
    },
    {
      "cell_type": "code",
      "execution_count": null,
      "metadata": {
        "cellView": "form",
        "id": "m5DzL6yKROSB"
      },
      "outputs": [],
      "source": [
        "#@title TR-Falqon\n",
        "\n",
        "\n",
        "def TR_falqonHx(L, Hp, Psi, dt, layers, a, tf, frt, dfrt, beta0, layers_psis=None, return_data=False, show_data=0):\n",
        "    index = torch.arange(2**L, dtype=torch.int64, device=Psi.device)\n",
        "\n",
        "    # Initialize beta parameter\n",
        "    beta = torch.tensor(beta0, device=device, dtype=torch.complex128)\n",
        "\n",
        "    if return_data:\n",
        "        recorded_energies = []\n",
        "        recorded_betas = []\n",
        "        psis = []\n",
        "    if layers_psis is None:\n",
        "        layers_psis = [layers]\n",
        "\n",
        "    for i in range(1, layers + 1):\n",
        "        # Compute time-dependent scaling factor\n",
        "        df_tau = dfrt(dt * (i + 1), tf, a)\n",
        "\n",
        "        # Apply evolution under Hp\n",
        "        Up = torch.exp(-1j * Hp * df_tau * dt)\n",
        "        UpPsi = Up * Psi\n",
        "\n",
        "        # Apply evolution under Hx\n",
        "        Psi = expX(UpPsi, df_tau * beta * dt, L, index)\n",
        "\n",
        "        if layers_psis is not None:\n",
        "            if i in layers_psis:\n",
        "                psis.append(Psi.clone())\n",
        "\n",
        "        HpPsi = Hp * Psi\n",
        "\n",
        "        # Apply Hx operator to HpPsi\n",
        "        HxHpPsi = hX(HpPsi, L, index)\n",
        "\n",
        "        # Compute <Psi| HxHp |Psi>\n",
        "        PsiHxHpPsi = torch.vdot(Psi, HxHpPsi)\n",
        "\n",
        "        # Update beta with time-rescaling factor\n",
        "        beta = -1j * (PsiHxHpPsi - torch.conj(PsiHxHpPsi)) / dfrt(dt * (i + 2), tf, a)\n",
        "\n",
        "        if return_data:\n",
        "            # Record the energy <Psi|Hp|Psi>\n",
        "            energy = torch.vdot(Psi, HpPsi)\n",
        "\n",
        "            recorded_energies.append(float(energy.real))\n",
        "            recorded_betas.append(float(beta.real))\n",
        "\n",
        "            if show_data and i % show_data == 0:\n",
        "                print(f\"Layer {i}, E = {energy.real}\")\n",
        "\n",
        "    return (psis, recorded_energies, recorded_betas) if return_data else psis\n"
      ]
    },
    {
      "cell_type": "code",
      "execution_count": null,
      "metadata": {
        "cellView": "form",
        "id": "5zJjwdWhR2YA"
      },
      "outputs": [],
      "source": [
        "#@title Time-Rescaling Functions\n",
        "\n",
        "\n",
        "def frt1(tau, tf=10, a=1):\n",
        "    # Time-rescaling function frt1.\n",
        "    return a * tau - (tf / (2 * np.pi * a)) * (a - 1) * np.sin((2 * np.pi * a / tf) * tau)\n",
        "\n",
        "def dfrt1(tau, tf=10, a=1):\n",
        "    # Derivative of the time-rescaling function frt1.\n",
        "    return a - (a - 1) * np.cos((2 * np.pi * a / tf) * tau)\n",
        "\n",
        "def frt2(tau, tf=10, a=1):\n",
        "    # Time-rescaling function frt2.\n",
        "    return (2 * (a**2 - a**3) / tf**2) * tau**3 + (3 * (a**2 - a) / tf) * tau**2 + tau\n",
        "\n",
        "def dfrt2(tau, tf=10, a=1):\n",
        "    # Derivative of the time-rescaling function frt2.\n",
        "    return (6 * (a**2 - a**3) / tf**2) * tau**2 + (6 * (a**2 - a) / tf) * tau + 1\n"
      ]
    },
    {
      "cell_type": "code",
      "execution_count": null,
      "metadata": {
        "cellView": "form",
        "id": "z1P7OsGI23dL"
      },
      "outputs": [],
      "source": [
        "#@title Tensor Product\n",
        "\n",
        "def pauli_chain(L, op, pos, coef=1):\n",
        "    # Constructs the tensor product for a Pauli operator with diagonal representation acting on specific sites.\n",
        "\n",
        "    if coef == 0:\n",
        "        return torch.zeros(2**L, dtype=dtype, device=device)\n",
        "\n",
        "    pos = sorted(pos)\n",
        "    j = 0\n",
        "    product = torch.ones([1], dtype=dtype, device=device) * coef\n",
        "\n",
        "    for i in pos:\n",
        "        if i - j == 0:\n",
        "            product = torch.kron(product, op)\n",
        "        else:\n",
        "            identity = torch.ones(2**(i - j), dtype=dtype, device=device)\n",
        "            product = torch.kron(product, identity)\n",
        "            product = torch.kron(product, op)\n",
        "        j = i + 1\n",
        "    else:\n",
        "        identity = torch.ones(2**(L - j), dtype=dtype, device=device)\n",
        "        product = torch.kron(product, identity)\n",
        "\n",
        "    return product\n",
        "\n",
        "def tensor_product(*matrices):\n",
        "    # Computes the tensor product of multiple matrices.\n",
        "    product = matrices[0].clone()\n",
        "    for matrix in matrices[1:]:\n",
        "        product = torch.kron(product, matrix)\n",
        "    return product\n",
        "\n"
      ]
    },
    {
      "cell_type": "code",
      "execution_count": null,
      "metadata": {
        "cellView": "form",
        "id": "l7upn99JoM1b"
      },
      "outputs": [],
      "source": [
        "#@title MaxCut Hamiltonian with diagonal Pauli operators.\n",
        "\n",
        "sigma_z = torch.tensor([1, -1], dtype=torch.complex128, device=device)\n",
        "idn = torch.ones(2, dtype=torch.complex128, device=device)\n",
        "\n",
        "def Hmaxcut(L, w):\n",
        "    # Builds the MaxCut Hamiltonian for a graph with L nodes and weighted adjacency matrix w.\n",
        "    H = torch.zeros(2**L, dtype=torch.complex128, device=device)\n",
        "\n",
        "    for i in range(L):\n",
        "        for j in range(L):\n",
        "            if w[i, j] != 0:\n",
        "                ZiZj = [i, j]\n",
        "                term = pauli_chain(L, sigma_z, ZiZj, coef=w[i, j] / 2)\n",
        "                H = H + term\n",
        "    return H\n"
      ]
    },
    {
      "cell_type": "code",
      "execution_count": null,
      "metadata": {
        "id": "PENsEleQVLcc"
      },
      "outputs": [],
      "source": [
        "L = 24\n",
        "grau = 3\n",
        "\n",
        "\n",
        "G = nx.random_regular_graph(grau, L)\n",
        "# G = nx.complete_graph(L)\n",
        "\n",
        "for (u, v) in G.edges():\n",
        "    G[u][v]['weight'] = np.random.randint(1, 11)"
      ]
    },
    {
      "cell_type": "code",
      "execution_count": null,
      "metadata": {
        "id": "upiVdk9mcObk"
      },
      "outputs": [],
      "source": [
        "w = nx.adjacency_matrix(G).toarray()\n",
        "\n",
        "np.save(f\"w_{L}.npy\", w)"
      ]
    },
    {
      "cell_type": "code",
      "source": [
        "probs = [[], []]\n",
        "trprobs1 = [[], []]\n",
        "trprobs2 = [[], []]\n",
        "emin = [0,0]\n",
        "estado = [0,0]\n",
        "dts = [0.04, 0.03]\n",
        "layers = [400, 600]\n",
        "beta0 = 0\n",
        "layers_psis = [[50, 100, 200, 400], [200, 400, 500, 600]]\n",
        "\n",
        "Ls = [16, 24]"
      ],
      "metadata": {
        "id": "quu-pq5B5EFG"
      },
      "execution_count": null,
      "outputs": []
    },
    {
      "cell_type": "code",
      "execution_count": null,
      "metadata": {
        "id": "aQDSpZQNNnja"
      },
      "outputs": [],
      "source": [
        "grafico = 0\n",
        "\n",
        "L = Ls[grafico]\n",
        "\n",
        "w = np.load(f\"w_{L}.npy\")"
      ]
    },
    {
      "cell_type": "code",
      "execution_count": null,
      "metadata": {
        "id": "_UyoElNpjfeS"
      },
      "outputs": [],
      "source": [
        "Hp = Hmaxcut(L, w)\n",
        "\n",
        "Psi = torch.ones(2**L, dtype=torch.complex128, device=device)\n",
        "Psi /= np.sqrt(2**L)\n"
      ]
    },
    {
      "cell_type": "code",
      "execution_count": null,
      "metadata": {
        "colab": {
          "base_uri": "https://localhost:8080/"
        },
        "id": "WKaOOupsq4gs",
        "outputId": "0adfd2d9-b637-4357-bffa-28bebc98b604"
      },
      "outputs": [
        {
          "output_type": "stream",
          "name": "stdout",
          "text": [
            "-5.449999999999999 5880\n"
          ]
        }
      ],
      "source": [
        "emin[grafico] = float(torch.min(Hp.real))\n",
        "estado[grafico] = int(torch.argmin(Hp.real))\n",
        "\n",
        "\n",
        "print(emin[grafico], estado[grafico])"
      ]
    },
    {
      "cell_type": "code",
      "execution_count": null,
      "metadata": {
        "colab": {
          "base_uri": "https://localhost:8080/"
        },
        "id": "pYMR9Aj95AUS",
        "outputId": "b0cd73f2-8958-4dd1-d424-ce737a81c1c4"
      },
      "outputs": [
        {
          "output_type": "stream",
          "name": "stdout",
          "text": [
            "Layer 50, E = -2.4041649646979684\n",
            "Layer 100, E = -3.0604644198659225\n",
            "Layer 150, E = -3.5348869510434673\n",
            "Layer 200, E = -3.920769425209266\n",
            "Layer 250, E = -4.236250475579551\n",
            "Layer 300, E = -4.488986373883523\n",
            "Layer 350, E = -4.681427820822387\n",
            "Layer 400, E = -4.8298250640187295\n"
          ]
        }
      ],
      "source": [
        "psis, energias, betas = falqonHx(L, Hp, Psi, dts[grafico], layers[grafico], beta0, layers_psis[grafico], retornar_dados=True, mostrar_dados=50)\n",
        "probs[grafico] = []\n",
        "for psi in psis:\n",
        "    prob_s = float(torch.abs(psi[estado[grafico]]) ** 2) + float(torch.abs(psi[~estado[grafico] & ((1<<L)-1)]) ** 2)\n",
        "    probs[grafico].append(prob_s)\n",
        "\n"
      ]
    },
    {
      "cell_type": "code",
      "execution_count": null,
      "metadata": {
        "colab": {
          "base_uri": "https://localhost:8080/"
        },
        "id": "YbP1EesfnA1u",
        "outputId": "de6c3866-f305-47a3-9e02-5c12be1c7373"
      },
      "outputs": [
        {
          "output_type": "stream",
          "name": "stdout",
          "text": [
            "Layer 50, E = -3.0133149089670077\n",
            "Layer 100, E = -4.61943940315027\n",
            "Layer 150, E = -4.926231502508472\n",
            "Layer 200, E = -4.9656191661370155\n",
            "Layer 250, E = -5.003685723786491\n",
            "Layer 300, E = -5.043383330316419\n",
            "Layer 350, E = -5.051988144795182\n",
            "Layer 400, E = -5.052831451974045\n"
          ]
        }
      ],
      "source": [
        "a = 2\n",
        "tf = dts[grafico] * layers[grafico]\n",
        "\n",
        "trpsis1, trenergias1, trbetas1 = TR_falqonHx(L, Hp, Psi, dts[grafico], layers[grafico], a, tf, frt1, dfrt1, beta0, layers_psis[grafico], retornar_dados=True, mostrar_dados=50)\n",
        "trprobs1[grafico] = []\n",
        "for psi in trpsis1:\n",
        "    prob_s = float(torch.abs(psi[estado[grafico]]) ** 2) + float(torch.abs(psi[~estado[grafico] & ((1<<L)-1)]) ** 2)\n",
        "    trprobs1[grafico].append(prob_s)\n"
      ]
    },
    {
      "cell_type": "code",
      "execution_count": null,
      "metadata": {
        "colab": {
          "base_uri": "https://localhost:8080/"
        },
        "id": "HXswMCv9_3a8",
        "outputId": "64dcdbd6-d469-4198-ab07-86d918dc7703"
      },
      "outputs": [
        {
          "output_type": "stream",
          "name": "stdout",
          "text": [
            "Layer 50, E = -3.3423138643985606\n",
            "Layer 100, E = -4.578556462684328\n",
            "Layer 150, E = -4.905681035716056\n",
            "Layer 200, E = -4.979335105635703\n",
            "Layer 250, E = -4.987163160436794\n",
            "Layer 300, E = -5.021582197357601\n",
            "Layer 350, E = -5.046058641920714\n",
            "Layer 400, E = -5.055650297526276\n"
          ]
        }
      ],
      "source": [
        "trpsis2, trenergias2, trbetas2 = TR_falqonHx(L, Hp, Psi, dts[grafico], layers[grafico], a, tf, frt2, dfrt2, beta0, layers_psis[grafico], retornar_dados=True, mostrar_dados=50)\n",
        "trprobs2[grafico] = []\n",
        "for psi in trpsis2:\n",
        "    prob_s = float(torch.abs(psi[estado[grafico]]) ** 2) + float(torch.abs(psi[~estado[grafico] & ((1<<L)-1)]) ** 2)\n",
        "    trprobs2[grafico].append(prob_s)\n"
      ]
    },
    {
      "cell_type": "code",
      "source": [
        "#@title Gráfico\n",
        "\n",
        "\n",
        "fig, axs = plt.subplots(1, 2, figsize=(11, 6.5))\n",
        "\n",
        "bbox_props = dict(boxstyle=\"round\", fc=\"w\", ec=\"0.5\", alpha=0.9)\n",
        "\n",
        "\n",
        "x = np.arange(len(layers_psis[0]))\n",
        "width = 0.2\n",
        "\n",
        "\n",
        "\n",
        "line1 = axs[0].bar(x - width, probs[0], width=width, label='FALQON', color='#1f77b4', zorder = 3)\n",
        "line2 = axs[0].bar(x, trprobs1[0], width=width, label='TR-FALQON', color='red', zorder = 3)\n",
        "line3 = axs[0].bar(x + width, trprobs2[0], width=width, label='TR-FALQON+FALQON', color='purple', zorder = 3)\n",
        "handles = [line1, line2, line3]\n",
        "labels = [\"FALQON\", \"$f_1$\",  \"$f_2$\"]\n",
        "\n",
        "axs[0].set_xticks(x)\n",
        "\n",
        "legend1 = axs[0].legend(handles[:1], labels[:1], fontsize=20, loc='upper left', bbox_to_anchor=(0.01, 0.78), frameon=True, framealpha=0.8)\n",
        "axs[0].add_artist(legend1)\n",
        "\n",
        "legend2 = axs[0].legend(handles[1:], labels[1:], title='TR-FALQON', fontsize=20, title_fontsize = 20, loc='upper left', bbox_to_anchor=(0.01, 0.66), frameon=True, framealpha=0.8)\n",
        "axs[0].add_artist(legend2)\n",
        "\n",
        "\n",
        "axs[0].grid(alpha=0.5, axis='y', zorder=0)\n",
        "\n",
        "\n",
        "\n",
        "xtick_labels = [str(idx) for idx in layers_psis[0]]\n",
        "axs[0].set_xticklabels(xtick_labels, rotation=45, ha='right', rotation_mode='anchor')\n",
        "\n",
        "\n",
        "\n",
        "axs[0].set_xlabel(r\"Layers k\", fontsize=22)\n",
        "axs[0].set_ylabel(r\"Success probability\", fontsize=22)\n",
        "axs[0].set_ylim(0, 0.48)\n",
        "\n",
        "\n",
        "axs[0].tick_params(axis='both', which='major', labelsize=16)\n",
        "\n",
        "axs[0].text(0.5, 0.95, 'Number of vertices: 16', transform=axs[0].transAxes,\n",
        "            fontsize=20, bbox=bbox_props, ha='center', va='top')\n",
        "\n",
        "\n",
        "x = np.arange(len(layers_psis[1]))\n",
        "width = 0.2\n",
        "\n",
        "\n",
        "\n",
        "line1 = axs[1].bar(x - width, probs[1], width=width, color='#1f77b4', zorder = 3)\n",
        "line2 = axs[1].bar(x, trprobs1[1], width=width, color='red', zorder = 3)\n",
        "line3 = axs[1].bar(x + width, trprobs2[1], width=width, color='purple', zorder = 3)\n",
        "handles = [line1, line2, line3]\n",
        "labels = [\"FALQON\", \"$f_1$\",  \"$f_2$\"]\n",
        "\n",
        "axs[1].set_xticks(x)\n",
        "\n",
        "legend1 = axs[1].legend(handles[:1], labels[:1], fontsize=20, loc='upper left', bbox_to_anchor=(0.01, 0.78), frameon=True, framealpha=0.8)\n",
        "axs[1].add_artist(legend1)\n",
        "\n",
        "legend2 = axs[1].legend(handles[1:], labels[1:], title='TR-FALQON', fontsize=20, title_fontsize = 20, loc='upper left', bbox_to_anchor=(0.01, 0.66), frameon=True, framealpha=0.8)\n",
        "axs[1].add_artist(legend2)\n",
        "axs[1].grid(alpha=0.5, axis='y', zorder=0)\n",
        "\n",
        "\n",
        "\n",
        "xtick_labels = [str(idx) for idx in layers_psis[1]]\n",
        "axs[1].set_xticklabels(xtick_labels, rotation=45, ha='right', rotation_mode='anchor')\n",
        "\n",
        "\n",
        "\n",
        "axs[1].set_xlabel(r\"Layers k\", fontsize=22)\n",
        "axs[1].set_ylim(0, 0.19)\n",
        "\n",
        "\n",
        "axs[0].text(-0.25, 1, '(a)', transform=axs[0].transAxes, fontsize=20, fontweight='bold', va='top')\n",
        "axs[1].text(-0.25, 1, '(b)', transform=axs[1].transAxes, fontsize=20, fontweight='bold', va='top')\n",
        "\n",
        "\n",
        "axs[1].tick_params(axis='both', which='major', labelsize=16)\n",
        "\n",
        "axs[1].text(0.5, 0.95, 'Number of vertices: 24', transform=axs[1].transAxes,\n",
        "            fontsize=20, bbox=bbox_props, ha='center', va='top')\n",
        "\n",
        "\n",
        "plt.tight_layout()\n",
        "plt.savefig(\"grafico1_tr.pdf\")\n",
        "plt.show()"
      ],
      "metadata": {
        "colab": {
          "base_uri": "https://localhost:8080/",
          "height": 657
        },
        "id": "Q_0-eCYI4VSb",
        "outputId": "14a434c0-bcb8-46ef-ab11-6c8c96d1d574"
      },
      "execution_count": null,
      "outputs": [
        {
          "output_type": "display_data",
          "data": {
            "text/plain": [
              "<Figure size 1100x650 with 2 Axes>"
            ],
            "image/png": "[encoded data removed]"
          },
          "metadata": {}
        }
      ]
    }
  ],
  "metadata": {
    "colab": {
      "provenance": [],
      "gpuType": "T4",
      "include_colab_link": true
    },
    "kernelspec": {
      "display_name": "Python 3",
      "name": "python3"
    },
    "language_info": {
      "name": "python"
    },
    "accelerator": "GPU"
  },
  "nbformat": 4,
  "nbformat_minor": 0
}